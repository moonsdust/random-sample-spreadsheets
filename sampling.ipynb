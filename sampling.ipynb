{
 "cells": [
  {
   "cell_type": "code",
   "execution_count": 2,
   "metadata": {},
   "outputs": [],
   "source": [
    "# Import libraries \n",
    "import pandas as pd\n",
    "import openpyxl"
   ]
  },
  {
   "cell_type": "code",
   "execution_count": 3,
   "metadata": {},
   "outputs": [],
   "source": [
    "# 1. Import excel file named <input_file> and create a dataframe from it\n",
    "input_file = 'input_file.xlsx' # TODO: Update this with the relative path to where your input file is located\n",
    "\n",
    "data = pd.read_excel(input_file)\n",
    "data = pd.DataFrame(data)"
   ]
  },
  {
   "cell_type": "code",
   "execution_count": 5,
   "metadata": {},
   "outputs": [],
   "source": [
    " # 2. Calculate number of messages to sample based on the unique value from <key_column> and convert into dictionary\n",
    "key_column = 'Channel Name' # TODO: Update this with the name of the column you want to sample based on  \n",
    "percent = 0.2 # TODO: Update this with the percent of messages you want to sample for each value from <key_column>\n",
    "    \n",
    "count_dict = ((data.groupby(key_column).size()) * percent).astype(int).to_dict()\n",
    "print(count_dict)"
   ]
  },
  {
   "cell_type": "code",
   "execution_count": 8,
   "metadata": {},
   "outputs": [
    {
     "data": {
      "text/plain": [
       "911"
      ]
     },
     "execution_count": 8,
     "metadata": {},
     "output_type": "execute_result"
    }
   ],
   "source": [
    "# 3. Sample <percent> of messages from each unique value from <key_column>\n",
    "output_data = pd.DataFrame()\n",
    "\n",
    "for channel_name, num in count_dict.items():\n",
    "    current_sample = data[data[key_column] == channel_name].sample(n = num)\n",
    "    output_data = pd.concat([output_data, current_sample])\n",
    "    \n",
    "# 4. Randomly shuffle rows\n",
    "output_data = output_data.sample(frac=1).reset_index(drop=True)\n",
    "\n",
    "# 5. Check to see how many total number of messages has been sampled \n",
    "len(output_data)"
   ]
  },
  {
   "cell_type": "code",
   "execution_count": 9,
   "metadata": {},
   "outputs": [],
   "source": [
    "# 6. Export (Comment out line depending on what output file you want)\n",
    "output_file_name = 'output_file.xlsx' # TODO: Update this with the relative path to your output destination including your output file name\n",
    "    \n",
    "# Export as a CSV\n",
    "# output_data.to_csv(output_file_name, index=False)\n",
    "    \n",
    "# Export as an Excel spreadsheet\n",
    "output_data.to_excel(output_file_name, index=False)"
   ]
  }
 ],
 "metadata": {
  "kernelspec": {
   "display_name": "venv",
   "language": "python",
   "name": "python3"
  },
  "language_info": {
   "codemirror_mode": {
    "name": "ipython",
    "version": 3
   },
   "file_extension": ".py",
   "mimetype": "text/x-python",
   "name": "python",
   "nbconvert_exporter": "python",
   "pygments_lexer": "ipython3",
   "version": "3.9.7"
  }
 },
 "nbformat": 4,
 "nbformat_minor": 2
}
